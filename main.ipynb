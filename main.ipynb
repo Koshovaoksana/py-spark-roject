{
 "cells": [
  {
   "cell_type": "code",
   "execution_count": 2,
   "id": "a237f8b9-0c17-4d9b-b97d-db3a6f2704ea",
   "metadata": {},
   "outputs": [],
   "source": [
    "from  transformation_quests import * \n",
    "from write_to_file import * \n",
    "\n",
    "def main():\n",
    "    \n",
    "    # trans_01-------------------------------------------------------start \n",
    "    # result =  getTransform_1()\n",
    "    # result.show(result.count())\n",
    "    # writeToFile(result, \"transformation_results/Transform_1\")\n",
    "    # trans_01-------------------------------------------------------end\n",
    "    \n",
    "    # trans_02-------------------------------------------------------start \n",
    "    # result = getTransform_2()\n",
    "    # result.show(result.count())\n",
    "    # writeToFile(result, \"transformation_results/Transform_2\")\n",
    "    # trans_02-------------------------------------------------------end\n",
    "    \n",
    "    # trans_03-------------------------------------------------------start \n",
    "    # result = getTransform_3()\n",
    "    # result.show(result.count())\n",
    "    # writeToFile(result, \"transformation_results/Transform_3\")\n",
    "    # trans_03-------------------------------------------------------end\n",
    "    \n",
    "    # trans_04-------------------------------------------------------start \n",
    "    # result = getTransform_4()\n",
    "    # result.show(result.count())\n",
    "    # writeToFile(result, \"transformation_results/Transform_4\")\n",
    "    # trans_04-------------------------------------------------------end \n",
    "    \n",
    "    # trans_05-------------------------------------------------------start \n",
    "    # result = getTransform_5()\n",
    "    # result.show()\n",
    "    # result.show(result.count())\n",
    "    # writeToFile(result, \"transformation_results/Transform_5\")\n",
    "    # trans_05-------------------------------------------------------end\n",
    "        \n",
    "    # trans_06-------------------------------------------------------start \n",
    "    # result = getTransform_6()\n",
    "    # result.show(result.count())\n",
    "    # writeToFile(result, \"transformation_results/Transform_6\")\n",
    "    # trans_06-------------------------------------------------------end    \n",
    "    \n",
    "    # trans_07-------------------------------------------------------start \n",
    "    # result = getTransform_7()\n",
    "    # result.show(result.count())\n",
    "    # writeToFile(result, \"transformation_results/Transform_7\")\n",
    "    # trans_07-------------------------------------------------------end   \n",
    "        \n",
    "    # trans_08-------------------------------------------------------start \n",
    "    # result = getTransform_8()\n",
    "    # result.show(result.count())\n",
    "    # writeToFile(result, \"transformation_results/Transform_8\")\n",
    "    # trans_08-------------------------------------------------------end     \n",
    "        \n",
    "if __name__ == \"__main__\":\n",
    "    main()"
   ]
  },
  {
   "cell_type": "code",
   "execution_count": null,
   "id": "f6e96919-2bbd-4657-9303-b08847968591",
   "metadata": {},
   "outputs": [],
   "source": []
  },
  {
   "cell_type": "code",
   "execution_count": null,
   "id": "1635cb4f-31d6-4967-97a1-2614c592c605",
   "metadata": {},
   "outputs": [],
   "source": []
  },
  {
   "cell_type": "code",
   "execution_count": null,
   "id": "14f3dfc6-8fde-4d57-b2b3-329f9e9af139",
   "metadata": {},
   "outputs": [],
   "source": []
  }
 ],
 "metadata": {
  "kernelspec": {
   "display_name": "Python 3 (ipykernel)",
   "language": "python",
   "name": "python3"
  },
  "language_info": {
   "codemirror_mode": {
    "name": "ipython",
    "version": 3
   },
   "file_extension": ".py",
   "mimetype": "text/x-python",
   "name": "python",
   "nbconvert_exporter": "python",
   "pygments_lexer": "ipython3",
   "version": "3.10.10"
  }
 },
 "nbformat": 4,
 "nbformat_minor": 5
}
